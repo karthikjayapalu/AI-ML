{
  "nbformat": 4,
  "nbformat_minor": 0,
  "metadata": {
    "colab": {
      "name": "predict_relevance_search.ipynb",
      "provenance": [],
      "authorship_tag": "ABX9TyN1icTSQoC7GzSxMj9Q4js3"
    },
    "kernelspec": {
      "name": "python3",
      "display_name": "Python 3"
    },
    "language_info": {
      "name": "python"
    }
  },
  "cells": [
    {
      "cell_type": "code",
      "metadata": {
        "id": "UWL_WdHCHORH"
      },
      "source": [
        "import pandas as pd\n",
        "from google.colab import drive "
      ],
      "execution_count": 4,
      "outputs": []
    },
    {
      "cell_type": "code",
      "metadata": {
        "colab": {
          "base_uri": "https://localhost:8080/"
        },
        "id": "pMLyFz4CIITd",
        "outputId": "4ecece93-5181-49fa-9f23-ee03088fea70"
      },
      "source": [
        "#https://stackoverflow.com/questions/48340341/how-to-read-csv-to-dataframe-in-google-colab\n",
        "drive.mount('/gdrive')"
      ],
      "execution_count": 11,
      "outputs": [
        {
          "output_type": "stream",
          "name": "stdout",
          "text": [
            "Mounted at /gdrive\n"
          ]
        }
      ]
    },
    {
      "cell_type": "code",
      "metadata": {
        "colab": {
          "base_uri": "https://localhost:8080/",
          "height": 424
        },
        "id": "c3yMq5taIlBg",
        "outputId": "8507b928-45a2-45ca-fd17-2727842389d9"
      },
      "source": [
        "data_path = '/gdrive/MyDrive/ColabNotebooks/thesis/dataset/train.csv'\n",
        "df=pd.read_csv(data_path,encoding = \"ISO-8859-1\")\n",
        "df"
      ],
      "execution_count": 14,
      "outputs": [
        {
          "output_type": "execute_result",
          "data": {
            "text/html": [
              "<div>\n",
              "<style scoped>\n",
              "    .dataframe tbody tr th:only-of-type {\n",
              "        vertical-align: middle;\n",
              "    }\n",
              "\n",
              "    .dataframe tbody tr th {\n",
              "        vertical-align: top;\n",
              "    }\n",
              "\n",
              "    .dataframe thead th {\n",
              "        text-align: right;\n",
              "    }\n",
              "</style>\n",
              "<table border=\"1\" class=\"dataframe\">\n",
              "  <thead>\n",
              "    <tr style=\"text-align: right;\">\n",
              "      <th></th>\n",
              "      <th>id</th>\n",
              "      <th>product_uid</th>\n",
              "      <th>product_title</th>\n",
              "      <th>search_term</th>\n",
              "      <th>relevance</th>\n",
              "    </tr>\n",
              "  </thead>\n",
              "  <tbody>\n",
              "    <tr>\n",
              "      <th>0</th>\n",
              "      <td>2</td>\n",
              "      <td>100001</td>\n",
              "      <td>Simpson Strong-Tie 12-Gauge Angle</td>\n",
              "      <td>angle bracket</td>\n",
              "      <td>3.00</td>\n",
              "    </tr>\n",
              "    <tr>\n",
              "      <th>1</th>\n",
              "      <td>3</td>\n",
              "      <td>100001</td>\n",
              "      <td>Simpson Strong-Tie 12-Gauge Angle</td>\n",
              "      <td>l bracket</td>\n",
              "      <td>2.50</td>\n",
              "    </tr>\n",
              "    <tr>\n",
              "      <th>2</th>\n",
              "      <td>9</td>\n",
              "      <td>100002</td>\n",
              "      <td>BEHR Premium Textured DeckOver 1-gal. #SC-141 ...</td>\n",
              "      <td>deck over</td>\n",
              "      <td>3.00</td>\n",
              "    </tr>\n",
              "    <tr>\n",
              "      <th>3</th>\n",
              "      <td>16</td>\n",
              "      <td>100005</td>\n",
              "      <td>Delta Vero 1-Handle Shower Only Faucet Trim Ki...</td>\n",
              "      <td>rain shower head</td>\n",
              "      <td>2.33</td>\n",
              "    </tr>\n",
              "    <tr>\n",
              "      <th>4</th>\n",
              "      <td>17</td>\n",
              "      <td>100005</td>\n",
              "      <td>Delta Vero 1-Handle Shower Only Faucet Trim Ki...</td>\n",
              "      <td>shower only faucet</td>\n",
              "      <td>2.67</td>\n",
              "    </tr>\n",
              "    <tr>\n",
              "      <th>...</th>\n",
              "      <td>...</td>\n",
              "      <td>...</td>\n",
              "      <td>...</td>\n",
              "      <td>...</td>\n",
              "      <td>...</td>\n",
              "    </tr>\n",
              "    <tr>\n",
              "      <th>74062</th>\n",
              "      <td>221457</td>\n",
              "      <td>206638</td>\n",
              "      <td>Atlantic Windowpane 576 CD or 192 DVD Blu-Ray ...</td>\n",
              "      <td>tv riser glass</td>\n",
              "      <td>1.00</td>\n",
              "    </tr>\n",
              "    <tr>\n",
              "      <th>74063</th>\n",
              "      <td>221458</td>\n",
              "      <td>206639</td>\n",
              "      <td>Philips 40-Watt Halogen R20 Flood Light Bulb (...</td>\n",
              "      <td>r20 halogen light</td>\n",
              "      <td>3.00</td>\n",
              "    </tr>\n",
              "    <tr>\n",
              "      <th>74064</th>\n",
              "      <td>221463</td>\n",
              "      <td>206641</td>\n",
              "      <td>Schlage Camelot In-Active Aged Bronze Handlese...</td>\n",
              "      <td>schlage lock siena half dummy knob with</td>\n",
              "      <td>2.33</td>\n",
              "    </tr>\n",
              "    <tr>\n",
              "      <th>74065</th>\n",
              "      <td>221471</td>\n",
              "      <td>206648</td>\n",
              "      <td>Plastec 11 in. x 24 in. Rose Garden Wall Decor...</td>\n",
              "      <td>zen garden  decor</td>\n",
              "      <td>3.00</td>\n",
              "    </tr>\n",
              "    <tr>\n",
              "      <th>74066</th>\n",
              "      <td>221473</td>\n",
              "      <td>206650</td>\n",
              "      <td>LICHTENBERG Pool Blue No. 918 Millennial Ryan ...</td>\n",
              "      <td>fine sheer curtain 63 inches</td>\n",
              "      <td>2.33</td>\n",
              "    </tr>\n",
              "  </tbody>\n",
              "</table>\n",
              "<p>74067 rows × 5 columns</p>\n",
              "</div>"
            ],
            "text/plain": [
              "           id  product_uid  ...                              search_term relevance\n",
              "0           2       100001  ...                            angle bracket      3.00\n",
              "1           3       100001  ...                                l bracket      2.50\n",
              "2           9       100002  ...                                deck over      3.00\n",
              "3          16       100005  ...                         rain shower head      2.33\n",
              "4          17       100005  ...                       shower only faucet      2.67\n",
              "...       ...          ...  ...                                      ...       ...\n",
              "74062  221457       206638  ...                           tv riser glass      1.00\n",
              "74063  221458       206639  ...                        r20 halogen light      3.00\n",
              "74064  221463       206641  ...  schlage lock siena half dummy knob with      2.33\n",
              "74065  221471       206648  ...                        zen garden  decor      3.00\n",
              "74066  221473       206650  ...             fine sheer curtain 63 inches      2.33\n",
              "\n",
              "[74067 rows x 5 columns]"
            ]
          },
          "metadata": {},
          "execution_count": 14
        }
      ]
    },
    {
      "cell_type": "markdown",
      "metadata": {
        "id": "bDRPLZnvInlD"
      },
      "source": [
        "# New section"
      ]
    }
  ]
}